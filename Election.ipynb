{
 "cells": [
  {
   "cell_type": "code",
   "execution_count": 2,
   "id": "be78bb83-4283-4118-8809-8b2e8d9e7cc1",
   "metadata": {},
   "outputs": [],
   "source": [
    "import pandas as pd\n",
    "import numpy as np"
   ]
  },
  {
   "cell_type": "code",
   "execution_count": 4,
   "id": "a70d3cc7-9bb7-4620-97f7-9417b599d983",
   "metadata": {},
   "outputs": [
    {
     "data": {
      "application/javascript": [
       "\n",
       "        if (window._pyforest_update_imports_cell) { window._pyforest_update_imports_cell('import pandas as pd'); }\n",
       "    "
      ],
      "text/plain": [
       "<IPython.core.display.Javascript object>"
      ]
     },
     "metadata": {},
     "output_type": "display_data"
    },
    {
     "data": {
      "text/html": [
       "<div>\n",
       "<style scoped>\n",
       "    .dataframe tbody tr th:only-of-type {\n",
       "        vertical-align: middle;\n",
       "    }\n",
       "\n",
       "    .dataframe tbody tr th {\n",
       "        vertical-align: top;\n",
       "    }\n",
       "\n",
       "    .dataframe thead th {\n",
       "        text-align: right;\n",
       "    }\n",
       "</style>\n",
       "<table border=\"1\" class=\"dataframe\">\n",
       "  <thead>\n",
       "    <tr style=\"text-align: right;\">\n",
       "      <th></th>\n",
       "      <th>state</th>\n",
       "      <th>pc_name</th>\n",
       "      <th>candidate</th>\n",
       "      <th>sex</th>\n",
       "      <th>age</th>\n",
       "      <th>category</th>\n",
       "      <th>party</th>\n",
       "      <th>party_symbol</th>\n",
       "      <th>general_votes</th>\n",
       "      <th>postal_votes</th>\n",
       "      <th>total_votes</th>\n",
       "      <th>total_electors</th>\n",
       "    </tr>\n",
       "  </thead>\n",
       "  <tbody>\n",
       "    <tr>\n",
       "      <th>0</th>\n",
       "      <td>Andhra Pradesh</td>\n",
       "      <td>Adilabad</td>\n",
       "      <td>GODAM NAGESH</td>\n",
       "      <td>M</td>\n",
       "      <td>49.0</td>\n",
       "      <td>ST</td>\n",
       "      <td>TRS</td>\n",
       "      <td>Car</td>\n",
       "      <td>425762</td>\n",
       "      <td>5085</td>\n",
       "      <td>430847</td>\n",
       "      <td>1386282</td>\n",
       "    </tr>\n",
       "    <tr>\n",
       "      <th>1</th>\n",
       "      <td>Andhra Pradesh</td>\n",
       "      <td>Adilabad</td>\n",
       "      <td>NARESH</td>\n",
       "      <td>M</td>\n",
       "      <td>37.0</td>\n",
       "      <td>ST</td>\n",
       "      <td>INC</td>\n",
       "      <td>Hand</td>\n",
       "      <td>257994</td>\n",
       "      <td>1563</td>\n",
       "      <td>259557</td>\n",
       "      <td>1386282</td>\n",
       "    </tr>\n",
       "    <tr>\n",
       "      <th>2</th>\n",
       "      <td>Andhra Pradesh</td>\n",
       "      <td>Adilabad</td>\n",
       "      <td>RAMESH RATHOD</td>\n",
       "      <td>M</td>\n",
       "      <td>48.0</td>\n",
       "      <td>ST</td>\n",
       "      <td>TDP</td>\n",
       "      <td>Bicycle</td>\n",
       "      <td>182879</td>\n",
       "      <td>1319</td>\n",
       "      <td>184198</td>\n",
       "      <td>1386282</td>\n",
       "    </tr>\n",
       "    <tr>\n",
       "      <th>3</th>\n",
       "      <td>Andhra Pradesh</td>\n",
       "      <td>Adilabad</td>\n",
       "      <td>RATHOD SADASHIV</td>\n",
       "      <td>M</td>\n",
       "      <td>55.0</td>\n",
       "      <td>ST</td>\n",
       "      <td>BSP</td>\n",
       "      <td>Elephant</td>\n",
       "      <td>94363</td>\n",
       "      <td>57</td>\n",
       "      <td>94420</td>\n",
       "      <td>1386282</td>\n",
       "    </tr>\n",
       "    <tr>\n",
       "      <th>4</th>\n",
       "      <td>Andhra Pradesh</td>\n",
       "      <td>Adilabad</td>\n",
       "      <td>NETHAWATH RAMDAS</td>\n",
       "      <td>M</td>\n",
       "      <td>44.0</td>\n",
       "      <td>ST</td>\n",
       "      <td>IND</td>\n",
       "      <td>Auto- Rickshaw</td>\n",
       "      <td>41028</td>\n",
       "      <td>4</td>\n",
       "      <td>41032</td>\n",
       "      <td>1386282</td>\n",
       "    </tr>\n",
       "  </tbody>\n",
       "</table>\n",
       "</div>"
      ],
      "text/plain": [
       "            state    pc_name         candidate sex   age category party  \\\n",
       "0  Andhra Pradesh  Adilabad       GODAM NAGESH   M  49.0       ST   TRS   \n",
       "1  Andhra Pradesh  Adilabad             NARESH   M  37.0       ST   INC   \n",
       "2  Andhra Pradesh  Adilabad      RAMESH RATHOD   M  48.0       ST   TDP   \n",
       "3  Andhra Pradesh  Adilabad    RATHOD SADASHIV   M  55.0       ST   BSP   \n",
       "4  Andhra Pradesh  Adilabad   NETHAWATH RAMDAS   M  44.0       ST   IND   \n",
       "\n",
       "     party_symbol  general_votes  postal_votes  total_votes  total_electors  \n",
       "0             Car         425762          5085       430847         1386282  \n",
       "1            Hand         257994          1563       259557         1386282  \n",
       "2         Bicycle         182879          1319       184198         1386282  \n",
       "3        Elephant          94363            57        94420         1386282  \n",
       "4  Auto- Rickshaw          41028             4        41032         1386282  "
      ]
     },
     "execution_count": 4,
     "metadata": {},
     "output_type": "execute_result"
    }
   ],
   "source": [
    "df=pd.read_csv('constituency_wise_results_2014.csv')\n",
    "df.head()\n"
   ]
  },
  {
   "cell_type": "code",
   "execution_count": 5,
   "id": "47ba0f54-2b0c-474c-a77d-b3c5d0cbed93",
   "metadata": {},
   "outputs": [
    {
     "data": {
      "text/plain": [
       "Index(['state', 'pc_name', 'candidate', 'sex', 'age', 'category', 'party',\n",
       "       'party_symbol', 'general_votes', 'postal_votes', 'total_votes',\n",
       "       'total_electors'],\n",
       "      dtype='object')"
      ]
     },
     "execution_count": 5,
     "metadata": {},
     "output_type": "execute_result"
    }
   ],
   "source": [
    "df.columns"
   ]
  },
  {
   "cell_type": "code",
   "execution_count": 6,
   "id": "fe3427cd-bb73-48e3-98d2-d66413cc8c19",
   "metadata": {},
   "outputs": [
    {
     "name": "stdout",
     "output_type": "stream",
     "text": [
      "<class 'pandas.core.frame.DataFrame'>\n",
      "RangeIndex: 8355 entries, 0 to 8354\n",
      "Data columns (total 12 columns):\n",
      " #   Column          Non-Null Count  Dtype  \n",
      "---  ------          --------------  -----  \n",
      " 0   state           8355 non-null   object \n",
      " 1   pc_name         8355 non-null   object \n",
      " 2   candidate       8355 non-null   object \n",
      " 3   sex             7845 non-null   object \n",
      " 4   age             7845 non-null   float64\n",
      " 5   category        7845 non-null   object \n",
      " 6   party           8355 non-null   object \n",
      " 7   party_symbol    8355 non-null   object \n",
      " 8   general_votes   8355 non-null   int64  \n",
      " 9   postal_votes    8355 non-null   int64  \n",
      " 10  total_votes     8355 non-null   int64  \n",
      " 11  total_electors  8355 non-null   int64  \n",
      "dtypes: float64(1), int64(4), object(7)\n",
      "memory usage: 783.4+ KB\n"
     ]
    }
   ],
   "source": [
    "df.info()"
   ]
  },
  {
   "cell_type": "code",
   "execution_count": 7,
   "id": "2e2f86a3-f415-4610-8808-08e936652549",
   "metadata": {},
   "outputs": [
    {
     "data": {
      "text/html": [
       "<div>\n",
       "<style scoped>\n",
       "    .dataframe tbody tr th:only-of-type {\n",
       "        vertical-align: middle;\n",
       "    }\n",
       "\n",
       "    .dataframe tbody tr th {\n",
       "        vertical-align: top;\n",
       "    }\n",
       "\n",
       "    .dataframe thead th {\n",
       "        text-align: right;\n",
       "    }\n",
       "</style>\n",
       "<table border=\"1\" class=\"dataframe\">\n",
       "  <thead>\n",
       "    <tr style=\"text-align: right;\">\n",
       "      <th></th>\n",
       "      <th>age</th>\n",
       "      <th>general_votes</th>\n",
       "      <th>postal_votes</th>\n",
       "      <th>total_votes</th>\n",
       "      <th>total_electors</th>\n",
       "    </tr>\n",
       "  </thead>\n",
       "  <tbody>\n",
       "    <tr>\n",
       "      <th>count</th>\n",
       "      <td>7845.000000</td>\n",
       "      <td>8355.000000</td>\n",
       "      <td>8355.000000</td>\n",
       "      <td>8355.000000</td>\n",
       "      <td>8.355000e+03</td>\n",
       "    </tr>\n",
       "    <tr>\n",
       "      <th>mean</th>\n",
       "      <td>47.135883</td>\n",
       "      <td>62132.985398</td>\n",
       "      <td>107.407660</td>\n",
       "      <td>62240.393058</td>\n",
       "      <td>1.574132e+06</td>\n",
       "    </tr>\n",
       "    <tr>\n",
       "      <th>std</th>\n",
       "      <td>11.902487</td>\n",
       "      <td>140261.650370</td>\n",
       "      <td>436.090305</td>\n",
       "      <td>140535.827087</td>\n",
       "      <td>2.711797e+05</td>\n",
       "    </tr>\n",
       "    <tr>\n",
       "      <th>min</th>\n",
       "      <td>25.000000</td>\n",
       "      <td>105.000000</td>\n",
       "      <td>0.000000</td>\n",
       "      <td>105.000000</td>\n",
       "      <td>4.992200e+04</td>\n",
       "    </tr>\n",
       "    <tr>\n",
       "      <th>25%</th>\n",
       "      <td>38.000000</td>\n",
       "      <td>1708.000000</td>\n",
       "      <td>0.000000</td>\n",
       "      <td>1708.500000</td>\n",
       "      <td>1.446478e+06</td>\n",
       "    </tr>\n",
       "    <tr>\n",
       "      <th>50%</th>\n",
       "      <td>46.000000</td>\n",
       "      <td>4350.000000</td>\n",
       "      <td>1.000000</td>\n",
       "      <td>4354.000000</td>\n",
       "      <td>1.578125e+06</td>\n",
       "    </tr>\n",
       "    <tr>\n",
       "      <th>75%</th>\n",
       "      <td>56.000000</td>\n",
       "      <td>14881.000000</td>\n",
       "      <td>13.000000</td>\n",
       "      <td>14886.000000</td>\n",
       "      <td>1.718414e+06</td>\n",
       "    </tr>\n",
       "    <tr>\n",
       "      <th>max</th>\n",
       "      <td>93.000000</td>\n",
       "      <td>859973.000000</td>\n",
       "      <td>6792.000000</td>\n",
       "      <td>863358.000000</td>\n",
       "      <td>3.183083e+06</td>\n",
       "    </tr>\n",
       "  </tbody>\n",
       "</table>\n",
       "</div>"
      ],
      "text/plain": [
       "               age  general_votes  postal_votes    total_votes  total_electors\n",
       "count  7845.000000    8355.000000   8355.000000    8355.000000    8.355000e+03\n",
       "mean     47.135883   62132.985398    107.407660   62240.393058    1.574132e+06\n",
       "std      11.902487  140261.650370    436.090305  140535.827087    2.711797e+05\n",
       "min      25.000000     105.000000      0.000000     105.000000    4.992200e+04\n",
       "25%      38.000000    1708.000000      0.000000    1708.500000    1.446478e+06\n",
       "50%      46.000000    4350.000000      1.000000    4354.000000    1.578125e+06\n",
       "75%      56.000000   14881.000000     13.000000   14886.000000    1.718414e+06\n",
       "max      93.000000  859973.000000   6792.000000  863358.000000    3.183083e+06"
      ]
     },
     "execution_count": 7,
     "metadata": {},
     "output_type": "execute_result"
    }
   ],
   "source": [
    "df.describe()"
   ]
  },
  {
   "cell_type": "code",
   "execution_count": 8,
   "id": "1986d188-b93e-4cb9-8075-011ceee4596f",
   "metadata": {},
   "outputs": [],
   "source": [
    "## data analysis"
   ]
  },
  {
   "cell_type": "code",
   "execution_count": 9,
   "id": "57a57759-1bd9-41c5-a5cc-61f8204e7efc",
   "metadata": {},
   "outputs": [
    {
     "ename": "SyntaxError",
     "evalue": "invalid syntax (1665846523.py, line 1)",
     "output_type": "error",
     "traceback": [
      "\u001b[1;36m  Cell \u001b[1;32mIn[9], line 1\u001b[1;36m\u001b[0m\n\u001b[1;33m    missing vakues\u001b[0m\n\u001b[1;37m            ^\u001b[0m\n\u001b[1;31mSyntaxError\u001b[0m\u001b[1;31m:\u001b[0m invalid syntax\n"
     ]
    }
   ],
   "source": [
    "missing vakues\n",
    "explore bout the num variable\n",
    "categorical variable\n",
    "finding relatiomns beetween features"
   ]
  },
  {
   "cell_type": "code",
   "execution_count": 10,
   "id": "6900731d-5992-4342-a003-d65f3371a8c1",
   "metadata": {},
   "outputs": [
    {
     "data": {
      "text/plain": [
       "state               0\n",
       "pc_name             0\n",
       "candidate           0\n",
       "sex               510\n",
       "age               510\n",
       "category          510\n",
       "party               0\n",
       "party_symbol        0\n",
       "general_votes       0\n",
       "postal_votes        0\n",
       "total_votes         0\n",
       "total_electors      0\n",
       "dtype: int64"
      ]
     },
     "execution_count": 10,
     "metadata": {},
     "output_type": "execute_result"
    }
   ],
   "source": [
    "df.isnull().sum()"
   ]
  },
  {
   "cell_type": "code",
   "execution_count": 12,
   "id": "be240e62-9506-4958-83b8-2ef2b9e40cf1",
   "metadata": {},
   "outputs": [
    {
     "data": {
      "text/plain": [
       "['sex', 'age', 'category']"
      ]
     },
     "execution_count": 12,
     "metadata": {},
     "output_type": "execute_result"
    }
   ],
   "source": [
    "[features for features in df.columns if df[features].isnull().sum()>0]"
   ]
  },
  {
   "cell_type": "code",
   "execution_count": null,
   "id": "917674f3-db84-46c2-879b-219fee47b4e0",
   "metadata": {},
   "outputs": [],
   "source": [
    "sns.heatmap()"
   ]
  }
 ],
 "metadata": {
  "kernelspec": {
   "display_name": "Python 3 (ipykernel)",
   "language": "python",
   "name": "python3"
  },
  "language_info": {
   "codemirror_mode": {
    "name": "ipython",
    "version": 3
   },
   "file_extension": ".py",
   "mimetype": "text/x-python",
   "name": "python",
   "nbconvert_exporter": "python",
   "pygments_lexer": "ipython3",
   "version": "3.11.4"
  }
 },
 "nbformat": 4,
 "nbformat_minor": 5
}
